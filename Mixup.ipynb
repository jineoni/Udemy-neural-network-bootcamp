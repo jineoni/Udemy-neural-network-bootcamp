{
 "cells": [
  {
   "cell_type": "code",
   "execution_count": 6,
   "metadata": {},
   "outputs": [],
   "source": [
    "from PIL import Image\n",
    "import os\n",
    "from random import randint\n",
    "import numpy as np\n",
    "import matplotlib.pyplot as plt"
   ]
  },
  {
   "cell_type": "code",
   "execution_count": 7,
   "metadata": {},
   "outputs": [],
   "source": [
    "# Change the range, rather than from 0 to 255, from 0 to 1.\n",
    "\n",
    "def normalize_image(x):\n",
    "    x = x / np.max(x)\n",
    "    mean = np.array([0.485, 0.456, 0.406]) # ImageNet dataset\n",
    "    std = np.array([0.229, 0.224, 0.225]) # ImageNet dataset\n",
    "    return (x - mean) / std"
   ]
  },
  {
   "cell_type": "code",
   "execution_count": 8,
   "metadata": {},
   "outputs": [],
   "source": [
    "# Opposite of normalization\n",
    "\n",
    "def denormalize_image(x):\n",
    "    mean = np.array([0.485, 0.456, 0.406]) # ImageNet dataset\n",
    "    std = np.array([0.229, 0.224, 0.225]) # ImageNet dataset\n",
    "    x = std * x + mean\n",
    "    x = np.clip(x, 0, 1)\n",
    "    return x"
   ]
  },
  {
   "cell_type": "code",
   "execution_count": null,
   "metadata": {},
   "outputs": [],
   "source": [
    "# batch_size = len(batch_x)\n",
    "# random_index = randint(0, betach_size-1)\n",
    "\n",
    "# current _image = normalize_image(np.array(batch_x[0]))\n",
    "# random_image_from_batch = normalize(np.array(batch_x[random_index]))\n",
    "\n",
    "# lam = 0.5\n",
    "# mixed_image = lam * current_image + (1-lam) * random_image_from_batch"
   ]
  },
  {
   "cell_type": "code",
   "execution_count": null,
   "metadata": {},
   "outputs": [],
   "source": []
  }
 ],
 "metadata": {
  "kernelspec": {
   "display_name": "base",
   "language": "python",
   "name": "python3"
  },
  "language_info": {
   "codemirror_mode": {
    "name": "ipython",
    "version": 3
   },
   "file_extension": ".py",
   "mimetype": "text/x-python",
   "name": "python",
   "nbconvert_exporter": "python",
   "pygments_lexer": "ipython3",
   "version": "3.11.5"
  }
 },
 "nbformat": 4,
 "nbformat_minor": 2
}

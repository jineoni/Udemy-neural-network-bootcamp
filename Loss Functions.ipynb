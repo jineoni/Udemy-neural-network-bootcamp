{
 "cells": [
  {
   "cell_type": "markdown",
   "metadata": {},
   "source": [
    "This is not really about using loss functions in applications, but it's just basically learning how to use them."
   ]
  },
  {
   "cell_type": "code",
   "execution_count": 1,
   "metadata": {},
   "outputs": [],
   "source": [
    "import torch\n",
    "import torch.nn as nn"
   ]
  },
  {
   "cell_type": "markdown",
   "metadata": {},
   "source": [
    "##### **MSE Loss**\n",
    "``torch.nn.MSELoss(size_average=None, reduce=None, reduction='mean')``\n",
    "- `size_average`, `reduce`, and `reduction` control how the loss values are processed. However, `size_average` and `reduce` are deprecated and replaced by `reduction`. \n",
    "- `reduction`: how the loss values are processed\n",
    "    - `none`: no reduction, returns individual loss values for each batch element\n",
    "    - `mean`: averages the loss values\n",
    "    - `sum`: sums the loss values\n",
    "- input: (*), where * means any number of dimensions\n",
    "- target: (*), same shape as the input\n"
   ]
  },
  {
   "cell_type": "code",
   "execution_count": 4,
   "metadata": {},
   "outputs": [],
   "source": [
    "prediction = torch.randn(4, 5)\n",
    "label = torch.randn(4, 5)"
   ]
  },
  {
   "cell_type": "code",
   "execution_count": 10,
   "metadata": {},
   "outputs": [
    {
     "data": {
      "text/plain": [
       "tensor([[1.2654, 0.0048, 0.4278, 2.3536, 3.4113],\n",
       "        [1.2562, 2.3183, 0.6317, 2.5777, 3.4099],\n",
       "        [0.1179, 1.0581, 0.9525, 0.1674, 0.0176],\n",
       "        [2.3933, 0.1924, 0.2863, 1.8164, 1.9684]])"
      ]
     },
     "execution_count": 10,
     "metadata": {},
     "output_type": "execute_result"
    }
   ],
   "source": [
    "mse = nn.MSELoss(reduction='none')\n",
    "loss = mse(prediction, label)\n",
    "loss"
   ]
  },
  {
   "cell_type": "code",
   "execution_count": 11,
   "metadata": {},
   "outputs": [
    {
     "data": {
      "text/plain": [
       "tensor(1.3314)"
      ]
     },
     "execution_count": 11,
     "metadata": {},
     "output_type": "execute_result"
    }
   ],
   "source": [
    "mse = nn.MSELoss(reduction='mean')\n",
    "loss = mse(prediction, label)\n",
    "loss"
   ]
  },
  {
   "cell_type": "code",
   "execution_count": 13,
   "metadata": {},
   "outputs": [
    {
     "data": {
      "text/plain": [
       "tensor(1.3314)"
      ]
     },
     "execution_count": 13,
     "metadata": {},
     "output_type": "execute_result"
    }
   ],
   "source": [
    "# same as\n",
    "((prediction - label)**2).mean()"
   ]
  },
  {
   "cell_type": "code",
   "execution_count": 12,
   "metadata": {},
   "outputs": [
    {
     "data": {
      "text/plain": [
       "tensor(26.6272)"
      ]
     },
     "execution_count": 12,
     "metadata": {},
     "output_type": "execute_result"
    }
   ],
   "source": [
    "mse = nn.MSELoss(reduction='sum')\n",
    "loss = mse(prediction, label)\n",
    "loss"
   ]
  },
  {
   "cell_type": "markdown",
   "metadata": {},
   "source": [
    "##### **BCE Loss**\n",
    "``torch.nn.BCELoss(weight=None, reduction='mean')``\n",
    "-  `weight`: a manual rescaling weight given to the loss of each batch element.\n",
    "- input: (*), where * means any number of dimensions\n",
    "- target: (*), same shape as the input\n",
    "- output: scalar, if `reduction` is `none`, then (*) same shape as the input"
   ]
  },
  {
   "cell_type": "code",
   "execution_count": 17,
   "metadata": {},
   "outputs": [
    {
     "name": "stdout",
     "output_type": "stream",
     "text": [
      "tensor([[-0.4305,  1.3474, -1.2240,  1.4649, -0.9720],\n",
      "        [ 0.5704, -1.5824,  0.6929, -1.2097,  2.5763],\n",
      "        [ 0.8078, -1.1626,  0.6324,  0.3928,  0.3318],\n",
      "        [-2.1183,  0.8027,  1.0416, -0.8392, -0.0648]])\n",
      "tensor([[1., 1., 0., 1., 1.],\n",
      "        [0., 1., 0., 0., 0.],\n",
      "        [1., 0., 1., 1., 0.],\n",
      "        [1., 1., 1., 0., 0.]])\n"
     ]
    }
   ],
   "source": [
    "prediction\n",
    "print(prediction)\n",
    "\n",
    "# Assigns a random integer value to each element of the tensor within the range [low, high)\n",
    "label = torch.zeros(4, 5).random_(0, 2)\n",
    "print(label)"
   ]
  },
  {
   "cell_type": "markdown",
   "metadata": {},
   "source": [
    "When using Binary Cross-Entropy (BCE) Loss, a sigmoid layer is needed because it assumes the input values are probabilities in the range [0, 1].\n",
    "- If you use `BCEWithLogitsLoss`, which includes the sigmoid operation internally, there's no need to add a separate sigmoid layer.\n",
    "- If you ensure the input values are already in the [0, 1] range and arge confident the model will not produce values outside this range, the Sigmoid layer can be omitted."
   ]
  },
  {
   "cell_type": "code",
   "execution_count": 18,
   "metadata": {},
   "outputs": [],
   "source": [
    "# add a sigmoid layer\n",
    "sigmoid = nn.Sigmoid()"
   ]
  },
  {
   "cell_type": "code",
   "execution_count": 23,
   "metadata": {},
   "outputs": [
    {
     "data": {
      "text/plain": [
       "tensor(0.8049)"
      ]
     },
     "execution_count": 23,
     "metadata": {},
     "output_type": "execute_result"
    }
   ],
   "source": [
    "bce = nn.BCELoss(reduction='mean')\n",
    "loss = bce(sigmoid(prediction), label)\n",
    "loss"
   ]
  },
  {
   "cell_type": "code",
   "execution_count": 24,
   "metadata": {},
   "outputs": [
    {
     "data": {
      "text/plain": [
       "tensor(0.8049)"
      ]
     },
     "execution_count": 24,
     "metadata": {},
     "output_type": "execute_result"
    }
   ],
   "source": [
    "bces = nn.BCEWithLogitsLoss(reduction='mean')\n",
    "loss = bces(prediction, label)\n",
    "loss"
   ]
  },
  {
   "cell_type": "markdown",
   "metadata": {},
   "source": [
    "##### **Cross Entropy Loss**\n",
    "``torch.nn.CrossEntropyLoss(weight=None, size_average=None, ignore_index=-100, reduce=None, reduction='mean', label_smoothing=0.0)``\n",
    "- input: shape (N, C) where C is number of classes \n",
    "- target: (N) where each value is 0 <= target[i] <= C-1\n"
   ]
  }
 ],
 "metadata": {
  "kernelspec": {
   "display_name": "base",
   "language": "python",
   "name": "python3"
  },
  "language_info": {
   "codemirror_mode": {
    "name": "ipython",
    "version": 3
   },
   "file_extension": ".py",
   "mimetype": "text/x-python",
   "name": "python",
   "nbconvert_exporter": "python",
   "pygments_lexer": "ipython3",
   "version": "3.11.5"
  }
 },
 "nbformat": 4,
 "nbformat_minor": 2
}

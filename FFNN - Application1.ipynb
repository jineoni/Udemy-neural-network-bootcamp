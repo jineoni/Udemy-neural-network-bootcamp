{
 "cells": [
  {
   "cell_type": "code",
   "execution_count": 173,
   "metadata": {},
   "outputs": [],
   "source": [
    "import numpy as np\n",
    "import pandas as pd\n",
    "\n",
    "import torch\n",
    "import torch.nn as nn\n",
    "\n",
    "from sklearn.preprocessing import StandardScaler\n",
    "\n",
    "from torch.utils.data import Dataset\n",
    "from torch.utils.data import DataLoader"
   ]
  },
  {
   "cell_type": "markdown",
   "metadata": {},
   "source": [
    "##### **Data Preprocessing**"
   ]
  },
  {
   "cell_type": "code",
   "execution_count": 174,
   "metadata": {},
   "outputs": [],
   "source": [
    "# Load the dataset\n",
    "data = pd.read_csv('diabetes.csv')"
   ]
  },
  {
   "cell_type": "code",
   "execution_count": 175,
   "metadata": {},
   "outputs": [
    {
     "data": {
      "text/html": [
       "<div>\n",
       "<style scoped>\n",
       "    .dataframe tbody tr th:only-of-type {\n",
       "        vertical-align: middle;\n",
       "    }\n",
       "\n",
       "    .dataframe tbody tr th {\n",
       "        vertical-align: top;\n",
       "    }\n",
       "\n",
       "    .dataframe thead th {\n",
       "        text-align: right;\n",
       "    }\n",
       "</style>\n",
       "<table border=\"1\" class=\"dataframe\">\n",
       "  <thead>\n",
       "    <tr style=\"text-align: right;\">\n",
       "      <th></th>\n",
       "      <th>Number of times pregnant</th>\n",
       "      <th>Plasma glucose concentration</th>\n",
       "      <th>Diastolic blood pressure</th>\n",
       "      <th>Triceps skin fold thickness</th>\n",
       "      <th>2-Hour serum insulin</th>\n",
       "      <th>Body mass index</th>\n",
       "      <th>Age</th>\n",
       "      <th>Class</th>\n",
       "    </tr>\n",
       "  </thead>\n",
       "  <tbody>\n",
       "    <tr>\n",
       "      <th>0</th>\n",
       "      <td>6</td>\n",
       "      <td>148</td>\n",
       "      <td>72</td>\n",
       "      <td>35</td>\n",
       "      <td>0</td>\n",
       "      <td>33.6</td>\n",
       "      <td>50</td>\n",
       "      <td>positive</td>\n",
       "    </tr>\n",
       "    <tr>\n",
       "      <th>1</th>\n",
       "      <td>1</td>\n",
       "      <td>85</td>\n",
       "      <td>66</td>\n",
       "      <td>29</td>\n",
       "      <td>0</td>\n",
       "      <td>26.6</td>\n",
       "      <td>31</td>\n",
       "      <td>negative</td>\n",
       "    </tr>\n",
       "    <tr>\n",
       "      <th>2</th>\n",
       "      <td>8</td>\n",
       "      <td>183</td>\n",
       "      <td>64</td>\n",
       "      <td>0</td>\n",
       "      <td>0</td>\n",
       "      <td>23.3</td>\n",
       "      <td>32</td>\n",
       "      <td>positive</td>\n",
       "    </tr>\n",
       "    <tr>\n",
       "      <th>3</th>\n",
       "      <td>1</td>\n",
       "      <td>89</td>\n",
       "      <td>66</td>\n",
       "      <td>23</td>\n",
       "      <td>94</td>\n",
       "      <td>28.1</td>\n",
       "      <td>21</td>\n",
       "      <td>negative</td>\n",
       "    </tr>\n",
       "    <tr>\n",
       "      <th>4</th>\n",
       "      <td>0</td>\n",
       "      <td>137</td>\n",
       "      <td>40</td>\n",
       "      <td>35</td>\n",
       "      <td>168</td>\n",
       "      <td>43.1</td>\n",
       "      <td>33</td>\n",
       "      <td>positive</td>\n",
       "    </tr>\n",
       "    <tr>\n",
       "      <th>...</th>\n",
       "      <td>...</td>\n",
       "      <td>...</td>\n",
       "      <td>...</td>\n",
       "      <td>...</td>\n",
       "      <td>...</td>\n",
       "      <td>...</td>\n",
       "      <td>...</td>\n",
       "      <td>...</td>\n",
       "    </tr>\n",
       "    <tr>\n",
       "      <th>763</th>\n",
       "      <td>10</td>\n",
       "      <td>101</td>\n",
       "      <td>76</td>\n",
       "      <td>48</td>\n",
       "      <td>180</td>\n",
       "      <td>32.9</td>\n",
       "      <td>63</td>\n",
       "      <td>negative</td>\n",
       "    </tr>\n",
       "    <tr>\n",
       "      <th>764</th>\n",
       "      <td>2</td>\n",
       "      <td>122</td>\n",
       "      <td>70</td>\n",
       "      <td>27</td>\n",
       "      <td>0</td>\n",
       "      <td>36.8</td>\n",
       "      <td>27</td>\n",
       "      <td>negative</td>\n",
       "    </tr>\n",
       "    <tr>\n",
       "      <th>765</th>\n",
       "      <td>5</td>\n",
       "      <td>121</td>\n",
       "      <td>72</td>\n",
       "      <td>23</td>\n",
       "      <td>112</td>\n",
       "      <td>26.2</td>\n",
       "      <td>30</td>\n",
       "      <td>negative</td>\n",
       "    </tr>\n",
       "    <tr>\n",
       "      <th>766</th>\n",
       "      <td>1</td>\n",
       "      <td>126</td>\n",
       "      <td>60</td>\n",
       "      <td>0</td>\n",
       "      <td>0</td>\n",
       "      <td>30.1</td>\n",
       "      <td>47</td>\n",
       "      <td>positive</td>\n",
       "    </tr>\n",
       "    <tr>\n",
       "      <th>767</th>\n",
       "      <td>1</td>\n",
       "      <td>93</td>\n",
       "      <td>70</td>\n",
       "      <td>31</td>\n",
       "      <td>0</td>\n",
       "      <td>30.4</td>\n",
       "      <td>23</td>\n",
       "      <td>negative</td>\n",
       "    </tr>\n",
       "  </tbody>\n",
       "</table>\n",
       "<p>768 rows × 8 columns</p>\n",
       "</div>"
      ],
      "text/plain": [
       "     Number of times pregnant  Plasma glucose concentration  \\\n",
       "0                           6                           148   \n",
       "1                           1                            85   \n",
       "2                           8                           183   \n",
       "3                           1                            89   \n",
       "4                           0                           137   \n",
       "..                        ...                           ...   \n",
       "763                        10                           101   \n",
       "764                         2                           122   \n",
       "765                         5                           121   \n",
       "766                         1                           126   \n",
       "767                         1                            93   \n",
       "\n",
       "     Diastolic blood pressure  Triceps skin fold thickness  \\\n",
       "0                          72                           35   \n",
       "1                          66                           29   \n",
       "2                          64                            0   \n",
       "3                          66                           23   \n",
       "4                          40                           35   \n",
       "..                        ...                          ...   \n",
       "763                        76                           48   \n",
       "764                        70                           27   \n",
       "765                        72                           23   \n",
       "766                        60                            0   \n",
       "767                        70                           31   \n",
       "\n",
       "     2-Hour serum insulin  Body mass index  Age     Class  \n",
       "0                       0             33.6   50  positive  \n",
       "1                       0             26.6   31  negative  \n",
       "2                       0             23.3   32  positive  \n",
       "3                      94             28.1   21  negative  \n",
       "4                     168             43.1   33  positive  \n",
       "..                    ...              ...  ...       ...  \n",
       "763                   180             32.9   63  negative  \n",
       "764                     0             36.8   27  negative  \n",
       "765                   112             26.2   30  negative  \n",
       "766                     0             30.1   47  positive  \n",
       "767                     0             30.4   23  negative  \n",
       "\n",
       "[768 rows x 8 columns]"
      ]
     },
     "execution_count": 175,
     "metadata": {},
     "output_type": "execute_result"
    }
   ],
   "source": [
    "data"
   ]
  },
  {
   "cell_type": "code",
   "execution_count": 176,
   "metadata": {},
   "outputs": [],
   "source": [
    "# For x, extract out all columns except last column, and convert to numpy using the .values method.\n",
    "x = data.iloc[:, :-1].values\n",
    "\n",
    "# For y, extract out the last column\n",
    "y_string = list(data.iloc[:, -1])\n",
    "# Our neural network only understand numbers. So convert the string to labels.\n",
    "y_int = []\n",
    "for string in y_string:\n",
    "    if string == 'positive':\n",
    "        y_int.append(1)\n",
    "    else:\n",
    "        y_int.append(0)\n",
    "# Convert to an array.\n",
    "y = np.array(y_int, dtype='float64')"
   ]
  },
  {
   "cell_type": "markdown",
   "metadata": {},
   "source": [
    "##### **Data Normalization**"
   ]
  },
  {
   "cell_type": "code",
   "execution_count": 177,
   "metadata": {},
   "outputs": [
    {
     "data": {
      "text/plain": [
       "array([[  6. , 148. ,  72. , ...,   0. ,  33.6,  50. ],\n",
       "       [  1. ,  85. ,  66. , ...,   0. ,  26.6,  31. ],\n",
       "       [  8. , 183. ,  64. , ...,   0. ,  23.3,  32. ],\n",
       "       ...,\n",
       "       [  5. , 121. ,  72. , ..., 112. ,  26.2,  30. ],\n",
       "       [  1. , 126. ,  60. , ...,   0. ,  30.1,  47. ],\n",
       "       [  1. ,  93. ,  70. , ...,   0. ,  30.4,  23. ]])"
      ]
     },
     "execution_count": 177,
     "metadata": {},
     "output_type": "execute_result"
    }
   ],
   "source": [
    "x"
   ]
  },
  {
   "cell_type": "markdown",
   "metadata": {},
   "source": [
    "Feature Normalization\n",
    "\n",
    "- standardization\n",
    "$x' = \\frac{x-\\bar x}{\\sigma}$"
   ]
  },
  {
   "cell_type": "code",
   "execution_count": 178,
   "metadata": {},
   "outputs": [],
   "source": [
    "# All features should have the same range of values (-1, 1)\n",
    "sc = StandardScaler()\n",
    "x = sc.fit_transform(x)"
   ]
  },
  {
   "cell_type": "code",
   "execution_count": 179,
   "metadata": {},
   "outputs": [
    {
     "data": {
      "text/plain": [
       "array([[ 0.63994726,  0.84832379,  0.14964075, ..., -0.69289057,\n",
       "         0.20401277,  1.4259954 ],\n",
       "       [-0.84488505, -1.12339636, -0.16054575, ..., -0.69289057,\n",
       "        -0.68442195, -0.19067191],\n",
       "       [ 1.23388019,  1.94372388, -0.26394125, ..., -0.69289057,\n",
       "        -1.10325546, -0.10558415],\n",
       "       ...,\n",
       "       [ 0.3429808 ,  0.00330087,  0.14964075, ...,  0.27959377,\n",
       "        -0.73518964, -0.27575966],\n",
       "       [-0.84488505,  0.1597866 , -0.47073225, ..., -0.69289057,\n",
       "        -0.24020459,  1.17073215],\n",
       "       [-0.84488505, -0.8730192 ,  0.04624525, ..., -0.69289057,\n",
       "        -0.20212881, -0.87137393]])"
      ]
     },
     "execution_count": 179,
     "metadata": {},
     "output_type": "execute_result"
    }
   ],
   "source": [
    "x"
   ]
  },
  {
   "cell_type": "code",
   "execution_count": 180,
   "metadata": {},
   "outputs": [
    {
     "name": "stdout",
     "output_type": "stream",
     "text": [
      "torch.Size([768, 7]) torch.Size([768])\n"
     ]
    }
   ],
   "source": [
    "# Convert to a PyTorch tensor\n",
    "x = torch.tensor(x)\n",
    "y = torch.tensor(y)\n",
    "\n",
    "print(x.shape, y.shape)"
   ]
  },
  {
   "cell_type": "code",
   "execution_count": 181,
   "metadata": {},
   "outputs": [
    {
     "name": "stdout",
     "output_type": "stream",
     "text": [
      "torch.Size([768, 1])\n"
     ]
    }
   ],
   "source": [
    "# Since we're going to use the binary cross entropy, y needs to be a two dimensional matrix.\n",
    "y = y.unsqueeze(1)\n",
    "print(y.shape)"
   ]
  },
  {
   "cell_type": "markdown",
   "metadata": {},
   "source": [
    "##### **Creating and Loading the Dataset**"
   ]
  },
  {
   "cell_type": "markdown",
   "metadata": {},
   "source": [
    "The **Dataset class** is used to implement a DataLoader.\n",
    "A **DataLoader** is essential in deep learning training for the following reasons:\n",
    "1. **Batch-wise Data Loading**: It automatically divides the dataset into smaller, manageable batches, making training more efficient.\n",
    "2. **Shuffling**: It randomizes the order of data to prevent the model from learning dependencies based on sequence."
   ]
  },
  {
   "cell_type": "markdown",
   "metadata": {},
   "source": [
    "The code below defines a custom `Dataset` class. The class inherits from a base `Dataset` class and initializes with input data `x` and labels `y`. \n",
    "- Inheriting from a base `Dataset` class ensures compatibility with deep learning frameworks, leverages reusable functionalities, enhances code consistency and readability, supports polymorphism, and improves maintainability and scalability."
   ]
  },
  {
   "cell_type": "code",
   "execution_count": 182,
   "metadata": {},
   "outputs": [],
   "source": [
    "class Dataset(Dataset):\n",
    "    def __init__(self, x, y):\n",
    "        self.x = x\n",
    "        self.y = y\n",
    "    \n",
    "    def __getitem__(self, index):\n",
    "        return self.x[index], self.y[index]\n",
    "    \n",
    "    def __len__(self):\n",
    "        return len(self.x)"
   ]
  },
  {
   "cell_type": "code",
   "execution_count": 183,
   "metadata": {},
   "outputs": [],
   "source": [
    "dataset = Dataset(x, y)"
   ]
  },
  {
   "cell_type": "code",
   "execution_count": 184,
   "metadata": {},
   "outputs": [
    {
     "data": {
      "text/plain": [
       "768"
      ]
     },
     "execution_count": 184,
     "metadata": {},
     "output_type": "execute_result"
    }
   ],
   "source": [
    "len(dataset)"
   ]
  },
  {
   "cell_type": "code",
   "execution_count": 185,
   "metadata": {},
   "outputs": [
    {
     "name": "stdout",
     "output_type": "stream",
     "text": [
      "There is 24 batches in the dataset.\n",
      "For one iteration (batch), there is: \n",
      "Data:    torch.Size([32, 7])\n",
      "Labels:  torch.Size([32, 1])\n"
     ]
    }
   ],
   "source": [
    "# Load the data to your dataloader for batch processing and shuffling\n",
    "train_loader = DataLoader(dataset=dataset, batch_size=32, shuffle=True)\n",
    "\n",
    "print(\"There is {} batches in the dataset.\".format(len(train_loader)))\n",
    "for (x, y) in train_loader:\n",
    "    print(\"For one iteration (batch), there is: \")\n",
    "    print(\"Data:    {}\".format(x.shape))\n",
    "    print(\"Labels:  {}\".format(y.shape))\n",
    "    break"
   ]
  },
  {
   "cell_type": "code",
   "execution_count": 186,
   "metadata": {},
   "outputs": [
    {
     "data": {
      "text/plain": [
       "True"
      ]
     },
     "execution_count": 186,
     "metadata": {},
     "output_type": "execute_result"
    }
   ],
   "source": [
    "768 / 32 == 24"
   ]
  },
  {
   "cell_type": "markdown",
   "metadata": {},
   "source": [
    "##### **Building the Network**"
   ]
  },
  {
   "cell_type": "code",
   "execution_count": 187,
   "metadata": {},
   "outputs": [],
   "source": [
    "class Model(nn.Module):\n",
    "    def __init__(self, input_features, output_features):\n",
    "        super(Model, self).__init__()\n",
    "        # 7 input neurons - 5 - 4 - 3 - 1 output neuron\n",
    "        self.fc1 = nn.Linear(input_features, 5)\n",
    "        self.fc2 = nn.Linear(5, 4)\n",
    "        self.fc3 = nn.Linear(4, 3)\n",
    "        self.fc4 = nn.Linear(3, output_features)\n",
    "        # two type of activation functions\n",
    "        # For the hidden layers, tanh.\n",
    "        # For the output, sigmoid, as we should have our output between 0 and one to use binary cross entropy.\n",
    "        self.tanh = nn.Tanh()\n",
    "        self.sigmoid = nn.Sigmoid()\n",
    "\n",
    "    def forward(self, x):\n",
    "        out = self.fc1(x)\n",
    "        out = self.tanh(out)\n",
    "        out = self.fc2(out)\n",
    "        out = self.tanh(out)\n",
    "        out = self.fc3(out)\n",
    "        out = self.tanh(out)\n",
    "        out = self.fc4(out)\n",
    "        out = self.sigmoid(out)\n",
    "        return out\n",
    "    \n",
    "    # We don't need to code back propagation function because Pytorch will automatically do it for us.\n",
    "    # It just follows the opposite order of the forward propagation function."
   ]
  },
  {
   "cell_type": "code",
   "execution_count": 188,
   "metadata": {},
   "outputs": [],
   "source": [
    "net = Model(7, 1)"
   ]
  },
  {
   "cell_type": "markdown",
   "metadata": {},
   "source": [
    "Binary Cross Entropy"
   ]
  },
  {
   "cell_type": "code",
   "execution_count": 189,
   "metadata": {},
   "outputs": [],
   "source": [
    "criterion = nn.BCELoss(reduction='mean')"
   ]
  },
  {
   "cell_type": "markdown",
   "metadata": {},
   "source": [
    "Stochastic Gradient Descent with momentum"
   ]
  },
  {
   "cell_type": "code",
   "execution_count": 190,
   "metadata": {},
   "outputs": [],
   "source": [
    "# Use SGD with momentum with a learning rate of 0.1\n",
    "optimizer = torch.optim.SGD(net.parameters(), lr=0.1, momentum=0.9) # weights"
   ]
  },
  {
   "cell_type": "markdown",
   "metadata": {},
   "source": [
    "##### **Training the Network**"
   ]
  },
  {
   "cell_type": "code",
   "execution_count": 191,
   "metadata": {},
   "outputs": [],
   "source": [
    "epochs = 200"
   ]
  },
  {
   "cell_type": "code",
   "execution_count": 192,
   "metadata": {},
   "outputs": [
    {
     "name": "stdout",
     "output_type": "stream",
     "text": [
      "Epoch: 1/200, Loss: 0.643, Accuracy: 0.656\n",
      "Epoch: 2/200, Loss: 0.557, Accuracy: 0.719\n",
      "Epoch: 3/200, Loss: 0.375, Accuracy: 0.906\n",
      "Epoch: 4/200, Loss: 0.682, Accuracy: 0.625\n",
      "Epoch: 5/200, Loss: 0.565, Accuracy: 0.750\n",
      "Epoch: 6/200, Loss: 0.453, Accuracy: 0.875\n",
      "Epoch: 7/200, Loss: 0.517, Accuracy: 0.719\n",
      "Epoch: 8/200, Loss: 0.577, Accuracy: 0.688\n",
      "Epoch: 9/200, Loss: 0.622, Accuracy: 0.688\n",
      "Epoch: 10/200, Loss: 0.567, Accuracy: 0.688\n",
      "Epoch: 11/200, Loss: 0.542, Accuracy: 0.656\n",
      "Epoch: 12/200, Loss: 0.433, Accuracy: 0.875\n",
      "Epoch: 13/200, Loss: 0.513, Accuracy: 0.719\n",
      "Epoch: 14/200, Loss: 0.436, Accuracy: 0.781\n",
      "Epoch: 15/200, Loss: 0.442, Accuracy: 0.844\n",
      "Epoch: 16/200, Loss: 0.551, Accuracy: 0.719\n",
      "Epoch: 17/200, Loss: 0.571, Accuracy: 0.688\n",
      "Epoch: 18/200, Loss: 0.604, Accuracy: 0.688\n",
      "Epoch: 19/200, Loss: 0.548, Accuracy: 0.719\n",
      "Epoch: 20/200, Loss: 0.633, Accuracy: 0.656\n",
      "Epoch: 21/200, Loss: 0.457, Accuracy: 0.719\n",
      "Epoch: 22/200, Loss: 0.422, Accuracy: 0.781\n",
      "Epoch: 23/200, Loss: 0.615, Accuracy: 0.750\n",
      "Epoch: 24/200, Loss: 0.460, Accuracy: 0.750\n",
      "Epoch: 25/200, Loss: 0.411, Accuracy: 0.812\n",
      "Epoch: 26/200, Loss: 0.609, Accuracy: 0.688\n",
      "Epoch: 27/200, Loss: 0.412, Accuracy: 0.750\n",
      "Epoch: 28/200, Loss: 0.524, Accuracy: 0.656\n",
      "Epoch: 29/200, Loss: 0.348, Accuracy: 0.812\n",
      "Epoch: 30/200, Loss: 0.430, Accuracy: 0.719\n",
      "Epoch: 31/200, Loss: 0.410, Accuracy: 0.844\n",
      "Epoch: 32/200, Loss: 0.375, Accuracy: 0.875\n",
      "Epoch: 33/200, Loss: 0.439, Accuracy: 0.750\n",
      "Epoch: 34/200, Loss: 0.505, Accuracy: 0.781\n",
      "Epoch: 35/200, Loss: 0.445, Accuracy: 0.750\n",
      "Epoch: 36/200, Loss: 0.338, Accuracy: 0.781\n",
      "Epoch: 37/200, Loss: 0.369, Accuracy: 0.812\n",
      "Epoch: 38/200, Loss: 0.367, Accuracy: 0.844\n",
      "Epoch: 39/200, Loss: 0.582, Accuracy: 0.719\n",
      "Epoch: 40/200, Loss: 0.361, Accuracy: 0.875\n",
      "Epoch: 41/200, Loss: 0.258, Accuracy: 0.875\n",
      "Epoch: 42/200, Loss: 0.493, Accuracy: 0.750\n",
      "Epoch: 43/200, Loss: 0.366, Accuracy: 0.844\n",
      "Epoch: 44/200, Loss: 0.256, Accuracy: 0.844\n",
      "Epoch: 45/200, Loss: 0.541, Accuracy: 0.719\n",
      "Epoch: 46/200, Loss: 0.547, Accuracy: 0.688\n",
      "Epoch: 47/200, Loss: 0.498, Accuracy: 0.688\n",
      "Epoch: 48/200, Loss: 0.353, Accuracy: 0.844\n",
      "Epoch: 49/200, Loss: 0.528, Accuracy: 0.594\n",
      "Epoch: 50/200, Loss: 0.349, Accuracy: 0.812\n",
      "Epoch: 51/200, Loss: 0.269, Accuracy: 0.875\n",
      "Epoch: 52/200, Loss: 0.355, Accuracy: 0.812\n",
      "Epoch: 53/200, Loss: 0.466, Accuracy: 0.719\n",
      "Epoch: 54/200, Loss: 0.611, Accuracy: 0.688\n",
      "Epoch: 55/200, Loss: 0.365, Accuracy: 0.844\n",
      "Epoch: 56/200, Loss: 0.562, Accuracy: 0.719\n",
      "Epoch: 57/200, Loss: 0.335, Accuracy: 0.844\n",
      "Epoch: 58/200, Loss: 0.375, Accuracy: 0.812\n",
      "Epoch: 59/200, Loss: 0.327, Accuracy: 0.750\n",
      "Epoch: 60/200, Loss: 0.327, Accuracy: 0.844\n",
      "Epoch: 61/200, Loss: 0.643, Accuracy: 0.625\n",
      "Epoch: 62/200, Loss: 0.488, Accuracy: 0.719\n",
      "Epoch: 63/200, Loss: 0.423, Accuracy: 0.719\n",
      "Epoch: 64/200, Loss: 0.500, Accuracy: 0.719\n",
      "Epoch: 65/200, Loss: 0.507, Accuracy: 0.750\n",
      "Epoch: 66/200, Loss: 0.292, Accuracy: 0.812\n",
      "Epoch: 67/200, Loss: 0.399, Accuracy: 0.781\n",
      "Epoch: 68/200, Loss: 0.392, Accuracy: 0.781\n",
      "Epoch: 69/200, Loss: 0.390, Accuracy: 0.812\n",
      "Epoch: 70/200, Loss: 0.388, Accuracy: 0.812\n",
      "Epoch: 71/200, Loss: 0.476, Accuracy: 0.656\n",
      "Epoch: 72/200, Loss: 0.301, Accuracy: 0.844\n",
      "Epoch: 73/200, Loss: 0.435, Accuracy: 0.812\n",
      "Epoch: 74/200, Loss: 0.352, Accuracy: 0.812\n",
      "Epoch: 75/200, Loss: 0.570, Accuracy: 0.625\n",
      "Epoch: 76/200, Loss: 0.456, Accuracy: 0.719\n",
      "Epoch: 77/200, Loss: 0.480, Accuracy: 0.719\n",
      "Epoch: 78/200, Loss: 0.459, Accuracy: 0.719\n",
      "Epoch: 79/200, Loss: 0.399, Accuracy: 0.812\n",
      "Epoch: 80/200, Loss: 0.255, Accuracy: 0.906\n",
      "Epoch: 81/200, Loss: 0.383, Accuracy: 0.812\n",
      "Epoch: 82/200, Loss: 0.295, Accuracy: 0.906\n",
      "Epoch: 83/200, Loss: 0.693, Accuracy: 0.750\n",
      "Epoch: 84/200, Loss: 0.333, Accuracy: 0.781\n",
      "Epoch: 85/200, Loss: 0.485, Accuracy: 0.688\n",
      "Epoch: 86/200, Loss: 0.502, Accuracy: 0.625\n",
      "Epoch: 87/200, Loss: 0.449, Accuracy: 0.688\n",
      "Epoch: 88/200, Loss: 0.603, Accuracy: 0.719\n",
      "Epoch: 89/200, Loss: 0.293, Accuracy: 0.844\n",
      "Epoch: 90/200, Loss: 0.421, Accuracy: 0.688\n",
      "Epoch: 91/200, Loss: 0.424, Accuracy: 0.719\n",
      "Epoch: 92/200, Loss: 0.335, Accuracy: 0.750\n",
      "Epoch: 93/200, Loss: 0.430, Accuracy: 0.750\n",
      "Epoch: 94/200, Loss: 0.369, Accuracy: 0.781\n",
      "Epoch: 95/200, Loss: 0.294, Accuracy: 0.812\n",
      "Epoch: 96/200, Loss: 0.394, Accuracy: 0.781\n",
      "Epoch: 97/200, Loss: 0.621, Accuracy: 0.781\n",
      "Epoch: 98/200, Loss: 0.289, Accuracy: 0.906\n",
      "Epoch: 99/200, Loss: 0.372, Accuracy: 0.781\n",
      "Epoch: 100/200, Loss: 0.357, Accuracy: 0.875\n",
      "Epoch: 101/200, Loss: 0.351, Accuracy: 0.844\n",
      "Epoch: 102/200, Loss: 0.265, Accuracy: 0.875\n",
      "Epoch: 103/200, Loss: 0.205, Accuracy: 0.906\n",
      "Epoch: 104/200, Loss: 0.368, Accuracy: 0.750\n",
      "Epoch: 105/200, Loss: 0.367, Accuracy: 0.812\n",
      "Epoch: 106/200, Loss: 0.381, Accuracy: 0.844\n",
      "Epoch: 107/200, Loss: 0.413, Accuracy: 0.812\n",
      "Epoch: 108/200, Loss: 0.417, Accuracy: 0.844\n",
      "Epoch: 109/200, Loss: 0.291, Accuracy: 0.906\n",
      "Epoch: 110/200, Loss: 0.467, Accuracy: 0.719\n",
      "Epoch: 111/200, Loss: 0.332, Accuracy: 0.875\n",
      "Epoch: 112/200, Loss: 0.344, Accuracy: 0.781\n",
      "Epoch: 113/200, Loss: 0.598, Accuracy: 0.625\n",
      "Epoch: 114/200, Loss: 0.445, Accuracy: 0.812\n",
      "Epoch: 115/200, Loss: 0.452, Accuracy: 0.750\n",
      "Epoch: 116/200, Loss: 0.400, Accuracy: 0.781\n",
      "Epoch: 117/200, Loss: 0.400, Accuracy: 0.781\n",
      "Epoch: 118/200, Loss: 0.270, Accuracy: 0.844\n",
      "Epoch: 119/200, Loss: 0.528, Accuracy: 0.719\n",
      "Epoch: 120/200, Loss: 0.496, Accuracy: 0.719\n",
      "Epoch: 121/200, Loss: 0.333, Accuracy: 0.844\n",
      "Epoch: 122/200, Loss: 0.388, Accuracy: 0.688\n",
      "Epoch: 123/200, Loss: 0.512, Accuracy: 0.656\n",
      "Epoch: 124/200, Loss: 0.323, Accuracy: 0.812\n",
      "Epoch: 125/200, Loss: 0.270, Accuracy: 0.906\n",
      "Epoch: 126/200, Loss: 0.206, Accuracy: 0.906\n",
      "Epoch: 127/200, Loss: 0.337, Accuracy: 0.812\n",
      "Epoch: 128/200, Loss: 0.360, Accuracy: 0.812\n",
      "Epoch: 129/200, Loss: 0.335, Accuracy: 0.781\n",
      "Epoch: 130/200, Loss: 0.325, Accuracy: 0.812\n",
      "Epoch: 131/200, Loss: 0.481, Accuracy: 0.750\n",
      "Epoch: 132/200, Loss: 0.410, Accuracy: 0.812\n",
      "Epoch: 133/200, Loss: 0.365, Accuracy: 0.812\n",
      "Epoch: 134/200, Loss: 0.390, Accuracy: 0.906\n",
      "Epoch: 135/200, Loss: 0.331, Accuracy: 0.875\n",
      "Epoch: 136/200, Loss: 0.318, Accuracy: 0.812\n",
      "Epoch: 137/200, Loss: 0.461, Accuracy: 0.750\n",
      "Epoch: 138/200, Loss: 0.592, Accuracy: 0.625\n",
      "Epoch: 139/200, Loss: 0.395, Accuracy: 0.781\n",
      "Epoch: 140/200, Loss: 0.462, Accuracy: 0.781\n",
      "Epoch: 141/200, Loss: 0.304, Accuracy: 0.844\n",
      "Epoch: 142/200, Loss: 0.547, Accuracy: 0.719\n",
      "Epoch: 143/200, Loss: 0.278, Accuracy: 0.844\n",
      "Epoch: 144/200, Loss: 0.495, Accuracy: 0.781\n",
      "Epoch: 145/200, Loss: 0.337, Accuracy: 0.781\n",
      "Epoch: 146/200, Loss: 0.306, Accuracy: 0.812\n",
      "Epoch: 147/200, Loss: 0.457, Accuracy: 0.781\n",
      "Epoch: 148/200, Loss: 0.388, Accuracy: 0.781\n",
      "Epoch: 149/200, Loss: 0.531, Accuracy: 0.688\n",
      "Epoch: 150/200, Loss: 0.316, Accuracy: 0.781\n",
      "Epoch: 151/200, Loss: 0.323, Accuracy: 0.875\n",
      "Epoch: 152/200, Loss: 0.440, Accuracy: 0.781\n",
      "Epoch: 153/200, Loss: 0.456, Accuracy: 0.781\n",
      "Epoch: 154/200, Loss: 0.503, Accuracy: 0.719\n",
      "Epoch: 155/200, Loss: 0.427, Accuracy: 0.844\n",
      "Epoch: 156/200, Loss: 0.554, Accuracy: 0.719\n",
      "Epoch: 157/200, Loss: 0.336, Accuracy: 0.875\n",
      "Epoch: 158/200, Loss: 0.397, Accuracy: 0.812\n",
      "Epoch: 159/200, Loss: 0.360, Accuracy: 0.781\n",
      "Epoch: 160/200, Loss: 0.475, Accuracy: 0.781\n",
      "Epoch: 161/200, Loss: 0.221, Accuracy: 0.906\n",
      "Epoch: 162/200, Loss: 0.398, Accuracy: 0.781\n",
      "Epoch: 163/200, Loss: 0.444, Accuracy: 0.750\n",
      "Epoch: 164/200, Loss: 0.378, Accuracy: 0.750\n",
      "Epoch: 165/200, Loss: 0.323, Accuracy: 0.781\n",
      "Epoch: 166/200, Loss: 0.479, Accuracy: 0.719\n",
      "Epoch: 167/200, Loss: 0.413, Accuracy: 0.844\n",
      "Epoch: 168/200, Loss: 0.363, Accuracy: 0.844\n",
      "Epoch: 169/200, Loss: 0.382, Accuracy: 0.812\n",
      "Epoch: 170/200, Loss: 0.394, Accuracy: 0.781\n",
      "Epoch: 171/200, Loss: 0.371, Accuracy: 0.750\n",
      "Epoch: 172/200, Loss: 0.513, Accuracy: 0.688\n",
      "Epoch: 173/200, Loss: 0.266, Accuracy: 0.875\n",
      "Epoch: 174/200, Loss: 0.287, Accuracy: 0.906\n",
      "Epoch: 175/200, Loss: 0.249, Accuracy: 0.938\n",
      "Epoch: 176/200, Loss: 0.413, Accuracy: 0.812\n",
      "Epoch: 177/200, Loss: 0.475, Accuracy: 0.781\n",
      "Epoch: 178/200, Loss: 0.386, Accuracy: 0.719\n",
      "Epoch: 179/200, Loss: 0.334, Accuracy: 0.844\n",
      "Epoch: 180/200, Loss: 0.335, Accuracy: 0.844\n",
      "Epoch: 181/200, Loss: 0.471, Accuracy: 0.719\n",
      "Epoch: 182/200, Loss: 0.399, Accuracy: 0.781\n",
      "Epoch: 183/200, Loss: 0.467, Accuracy: 0.656\n",
      "Epoch: 184/200, Loss: 0.511, Accuracy: 0.781\n",
      "Epoch: 185/200, Loss: 0.387, Accuracy: 0.812\n",
      "Epoch: 186/200, Loss: 0.351, Accuracy: 0.781\n",
      "Epoch: 187/200, Loss: 0.483, Accuracy: 0.750\n",
      "Epoch: 188/200, Loss: 0.357, Accuracy: 0.781\n",
      "Epoch: 189/200, Loss: 0.287, Accuracy: 0.906\n",
      "Epoch: 190/200, Loss: 0.308, Accuracy: 0.875\n",
      "Epoch: 191/200, Loss: 0.481, Accuracy: 0.750\n",
      "Epoch: 192/200, Loss: 0.484, Accuracy: 0.719\n",
      "Epoch: 193/200, Loss: 0.281, Accuracy: 0.844\n",
      "Epoch: 194/200, Loss: 0.420, Accuracy: 0.750\n",
      "Epoch: 195/200, Loss: 0.473, Accuracy: 0.656\n",
      "Epoch: 196/200, Loss: 0.483, Accuracy: 0.750\n",
      "Epoch: 197/200, Loss: 0.412, Accuracy: 0.688\n",
      "Epoch: 198/200, Loss: 0.298, Accuracy: 0.875\n",
      "Epoch: 199/200, Loss: 0.336, Accuracy: 0.969\n",
      "Epoch: 200/200, Loss: 0.520, Accuracy: 0.656\n"
     ]
    }
   ],
   "source": [
    "for epoch in range(epochs):\n",
    "    for inputs, labels in train_loader:\n",
    "        # both of them are float tensors, but we just want to be safe\n",
    "        inputs = inputs.float()\n",
    "        labels = labels.float()\n",
    "        \n",
    "        # Forward Propagation: Pass inputs through the model to compute predictions.\n",
    "        # No need to specify .forward(), just pass inputs to the net object argument. Pytorch will automatically call the forward function.\n",
    "        outputs = net(inputs)\n",
    "        \n",
    "        # Loss Calculation: Compute the loss between predicted values and actual labels.\n",
    "        loss = criterion(outputs, labels)\n",
    "        \n",
    "        # Clear the Gradient Buffer: Reset gradients to prevent accumulation from previous steps.\n",
    "        # Weight Update Rule: replace weight with (weight - learning rate * gradient)\n",
    "        optimizer.zero_grad()\n",
    "        \n",
    "        # Back Propagation: Will have a matrix of gradients\n",
    "        loss.backward()\n",
    "        \n",
    "        # Update Weights\n",
    "        optimizer.step()\n",
    "        \n",
    "    # Accuracy Calculation\n",
    "    output = (outputs > 0.5).float()\n",
    "    accuracy = (output == labels).float().mean()\n",
    "    \n",
    "    # Print Statistics\n",
    "    print(\"Epoch: {}/{}, Loss: {:.3f}, Accuracy: {:.3f}\".format(epoch+1, epochs, loss, accuracy))"
   ]
  }
 ],
 "metadata": {
  "kernelspec": {
   "display_name": "base",
   "language": "python",
   "name": "python3"
  },
  "language_info": {
   "codemirror_mode": {
    "name": "ipython",
    "version": 3
   },
   "file_extension": ".py",
   "mimetype": "text/x-python",
   "name": "python",
   "nbconvert_exporter": "python",
   "pygments_lexer": "ipython3",
   "version": "3.11.5"
  }
 },
 "nbformat": 4,
 "nbformat_minor": 2
}
